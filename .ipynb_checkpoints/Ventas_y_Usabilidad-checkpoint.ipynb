{
 "cells": [
  {
   "cell_type": "code",
   "execution_count": 1,
   "metadata": {
    "id": "Hqvyp_CeKuxz"
   },
   "outputs": [],
   "source": [
    "import numpy as np\n",
    "import pandas as pd\n",
    "import matplotlib as mpl\n",
    "import matplotlib.pyplot as plt\n",
    "import seaborn as sns\n",
    "import datetime\n",
    "\n",
    "\n",
    "import warnings\n",
    "warnings.filterwarnings('ignore')\n",
    "\n",
    "import datetime\n",
    "from datetime import datetime"
   ]
  },
  {
   "cell_type": "code",
   "execution_count": 2,
   "metadata": {
    "id": "Cm7RrFIcLgnl"
   },
   "outputs": [],
   "source": [
    "productos=pd.read_excel(r\"C:\\Users\\vitto\\OneDrive\\Escritorio\\GIT\\Cartera y Uso\\PRODUCTOS.xlsx\")     #lectura del archivo"
   ]
  },
  {
   "cell_type": "markdown",
   "metadata": {
    "id": "C2o4QjoRQ2li"
   },
   "source": [
    "# **CARTERA TOTAL**"
   ]
  },
  {
   "cell_type": "code",
   "execution_count": 5,
   "metadata": {
    "colab": {
     "base_uri": "https://localhost:8080/",
     "height": 595
    },
    "id": "ye5Pg91KLgp-",
    "outputId": "75d18abd-d649-44f2-9c38-4e993e46601c"
   },
   "outputs": [
    {
     "data": {
      "text/html": [
       "<div>\n",
       "<style scoped>\n",
       "    .dataframe tbody tr th:only-of-type {\n",
       "        vertical-align: middle;\n",
       "    }\n",
       "\n",
       "    .dataframe tbody tr th {\n",
       "        vertical-align: top;\n",
       "    }\n",
       "\n",
       "    .dataframe thead th {\n",
       "        text-align: right;\n",
       "    }\n",
       "</style>\n",
       "<table border=\"1\" class=\"dataframe\">\n",
       "  <thead>\n",
       "    <tr style=\"text-align: right;\">\n",
       "      <th></th>\n",
       "      <th>IdCRM</th>\n",
       "      <th>nombre</th>\n",
       "      <th>apellido</th>\n",
       "      <th>Fecha_Nacimiento</th>\n",
       "      <th>Tipo_Documento</th>\n",
       "      <th>Numero_Documento</th>\n",
       "      <th>Genero</th>\n",
       "      <th>cGenero</th>\n",
       "      <th>Provincia</th>\n",
       "      <th>Codigo_Postal</th>\n",
       "      <th>...</th>\n",
       "      <th>MONTO RECLAMADO</th>\n",
       "      <th>MONTO RECHAZADO</th>\n",
       "      <th>Edad Venta</th>\n",
       "      <th>Edad Siniestro</th>\n",
       "      <th>Rango Etario Venta</th>\n",
       "      <th>Rango Etario Siniestros</th>\n",
       "      <th>Producto1</th>\n",
       "      <th>Producto2</th>\n",
       "      <th>Producto3</th>\n",
       "      <th>PRODUCT</th>\n",
       "    </tr>\n",
       "  </thead>\n",
       "  <tbody>\n",
       "    <tr>\n",
       "      <th>0</th>\n",
       "      <td>A522CAFA-93B9-43C1-A35C-5C479B2DF504</td>\n",
       "      <td>NaN</td>\n",
       "      <td>NaN</td>\n",
       "      <td>1953-04-11 00:00:00</td>\n",
       "      <td>DNI</td>\n",
       "      <td>40925053</td>\n",
       "      <td>1.0</td>\n",
       "      <td>MASCULINO</td>\n",
       "      <td>Buenos Aires</td>\n",
       "      <td>1663</td>\n",
       "      <td>...</td>\n",
       "      <td>NaN</td>\n",
       "      <td>NaN</td>\n",
       "      <td>66.0</td>\n",
       "      <td>NaN</td>\n",
       "      <td>61-70</td>\n",
       "      <td>NaN</td>\n",
       "      <td>Garantia Extendida</td>\n",
       "      <td>NaN</td>\n",
       "      <td>NaN</td>\n",
       "      <td>Garantia Extendida</td>\n",
       "    </tr>\n",
       "    <tr>\n",
       "      <th>1</th>\n",
       "      <td>06B3E832-C9F1-46D3-90FF-EEF1616BC591</td>\n",
       "      <td>NaN</td>\n",
       "      <td>NaN</td>\n",
       "      <td>1942-07-28 00:00:00</td>\n",
       "      <td>DNI</td>\n",
       "      <td>5298953</td>\n",
       "      <td>2.0</td>\n",
       "      <td>FEMENINO</td>\n",
       "      <td>Buenos Aires</td>\n",
       "      <td>1903</td>\n",
       "      <td>...</td>\n",
       "      <td>NaN</td>\n",
       "      <td>NaN</td>\n",
       "      <td>75.0</td>\n",
       "      <td>NaN</td>\n",
       "      <td>&gt;70</td>\n",
       "      <td>NaN</td>\n",
       "      <td>Garantia Extendida</td>\n",
       "      <td>NaN</td>\n",
       "      <td>NaN</td>\n",
       "      <td>Garantia Extendida</td>\n",
       "    </tr>\n",
       "    <tr>\n",
       "      <th>2</th>\n",
       "      <td>4F8D0B3E-ADA6-4039-ABD0-0E6B6BD6F9B9</td>\n",
       "      <td>NaN</td>\n",
       "      <td>NaN</td>\n",
       "      <td>1988-09-10 00:00:00</td>\n",
       "      <td>DNI</td>\n",
       "      <td>33902230</td>\n",
       "      <td>1.0</td>\n",
       "      <td>MASCULINO</td>\n",
       "      <td>Buenos Aires</td>\n",
       "      <td>1832</td>\n",
       "      <td>...</td>\n",
       "      <td>NaN</td>\n",
       "      <td>NaN</td>\n",
       "      <td>26.0</td>\n",
       "      <td>NaN</td>\n",
       "      <td>26-34</td>\n",
       "      <td>NaN</td>\n",
       "      <td>NaN</td>\n",
       "      <td>AINC03</td>\n",
       "      <td>Asistencia - Salud Classic - TMK</td>\n",
       "      <td>FIQC03</td>\n",
       "    </tr>\n",
       "    <tr>\n",
       "      <th>3</th>\n",
       "      <td>CFCF7426-96F0-4A18-86D2-95D0AB0196C8</td>\n",
       "      <td>NaN</td>\n",
       "      <td>NaN</td>\n",
       "      <td>1980-06-06 00:00:00</td>\n",
       "      <td>DNI</td>\n",
       "      <td>28454542</td>\n",
       "      <td>2.0</td>\n",
       "      <td>FEMENINO</td>\n",
       "      <td>Buenos Aires</td>\n",
       "      <td>1744</td>\n",
       "      <td>...</td>\n",
       "      <td>NaN</td>\n",
       "      <td>NaN</td>\n",
       "      <td>36.0</td>\n",
       "      <td>NaN</td>\n",
       "      <td>35-45</td>\n",
       "      <td>NaN</td>\n",
       "      <td>Garantia Extendida</td>\n",
       "      <td>NaN</td>\n",
       "      <td>NaN</td>\n",
       "      <td>Garantia Extendida</td>\n",
       "    </tr>\n",
       "    <tr>\n",
       "      <th>4</th>\n",
       "      <td>CB0D813F-50C3-4E62-979B-0A15C799ACED</td>\n",
       "      <td>NaN</td>\n",
       "      <td>NaN</td>\n",
       "      <td>1984-02-21 00:00:00</td>\n",
       "      <td>DNI</td>\n",
       "      <td>30805859</td>\n",
       "      <td>2.0</td>\n",
       "      <td>FEMENINO</td>\n",
       "      <td>Catamarca</td>\n",
       "      <td>4700</td>\n",
       "      <td>...</td>\n",
       "      <td>NaN</td>\n",
       "      <td>NaN</td>\n",
       "      <td>36.0</td>\n",
       "      <td>NaN</td>\n",
       "      <td>35-45</td>\n",
       "      <td>NaN</td>\n",
       "      <td>Garantia Extendida</td>\n",
       "      <td>NaN</td>\n",
       "      <td>NaN</td>\n",
       "      <td>Garantia Extendida</td>\n",
       "    </tr>\n",
       "  </tbody>\n",
       "</table>\n",
       "<p>5 rows × 38 columns</p>\n",
       "</div>"
      ],
      "text/plain": [
       "                                  IdCRM  nombre  apellido  \\\n",
       "0  A522CAFA-93B9-43C1-A35C-5C479B2DF504     NaN       NaN   \n",
       "1  06B3E832-C9F1-46D3-90FF-EEF1616BC591     NaN       NaN   \n",
       "2  4F8D0B3E-ADA6-4039-ABD0-0E6B6BD6F9B9     NaN       NaN   \n",
       "3  CFCF7426-96F0-4A18-86D2-95D0AB0196C8     NaN       NaN   \n",
       "4  CB0D813F-50C3-4E62-979B-0A15C799ACED     NaN       NaN   \n",
       "\n",
       "      Fecha_Nacimiento Tipo_Documento Numero_Documento  Genero    cGenero  \\\n",
       "0  1953-04-11 00:00:00            DNI         40925053     1.0  MASCULINO   \n",
       "1  1942-07-28 00:00:00            DNI          5298953     2.0   FEMENINO   \n",
       "2  1988-09-10 00:00:00            DNI         33902230     1.0  MASCULINO   \n",
       "3  1980-06-06 00:00:00            DNI         28454542     2.0   FEMENINO   \n",
       "4  1984-02-21 00:00:00            DNI         30805859     2.0   FEMENINO   \n",
       "\n",
       "      Provincia Codigo_Postal  ... MONTO RECLAMADO MONTO RECHAZADO Edad Venta  \\\n",
       "0  Buenos Aires          1663  ...             NaN             NaN       66.0   \n",
       "1  Buenos Aires          1903  ...             NaN             NaN       75.0   \n",
       "2  Buenos Aires          1832  ...             NaN             NaN       26.0   \n",
       "3  Buenos Aires          1744  ...             NaN             NaN       36.0   \n",
       "4     Catamarca          4700  ...             NaN             NaN       36.0   \n",
       "\n",
       "  Edad Siniestro Rango Etario Venta Rango Etario Siniestros  \\\n",
       "0            NaN              61-70                     NaN   \n",
       "1            NaN                >70                     NaN   \n",
       "2            NaN              26-34                     NaN   \n",
       "3            NaN              35-45                     NaN   \n",
       "4            NaN              35-45                     NaN   \n",
       "\n",
       "            Producto1 Producto2                         Producto3  \\\n",
       "0  Garantia Extendida       NaN                               NaN   \n",
       "1  Garantia Extendida       NaN                               NaN   \n",
       "2                 NaN    AINC03  Asistencia - Salud Classic - TMK   \n",
       "3  Garantia Extendida       NaN                               NaN   \n",
       "4  Garantia Extendida       NaN                               NaN   \n",
       "\n",
       "              PRODUCT  \n",
       "0  Garantia Extendida  \n",
       "1  Garantia Extendida  \n",
       "2              FIQC03  \n",
       "3  Garantia Extendida  \n",
       "4  Garantia Extendida  \n",
       "\n",
       "[5 rows x 38 columns]"
      ]
     },
     "execution_count": 5,
     "metadata": {},
     "output_type": "execute_result"
    }
   ],
   "source": [
    "cartera=pd.read_excel(r\"C:\\Users\\vitto\\PROYECTOS ANACONDA\\Cartera y Uso\\Cartera y Siniestros.xlsx\", sheet_name='Cartera')     #lectura del archivo\n",
    "cartera.head()"
   ]
  },
  {
   "cell_type": "code",
   "execution_count": 6,
   "metadata": {
    "id": "5--BWiXqLgsB"
   },
   "outputs": [
    {
     "data": {
      "text/plain": [
       "(738126, 38)"
      ]
     },
     "execution_count": 6,
     "metadata": {},
     "output_type": "execute_result"
    }
   ],
   "source": [
    "cartera.shape"
   ]
  },
  {
   "cell_type": "markdown",
   "metadata": {
    "id": "Hsh5pk_GQ-XG"
   },
   "source": [
    "# CARTERA DEL 2019 AL **2022**"
   ]
  },
  {
   "cell_type": "code",
   "execution_count": 8,
   "metadata": {
    "id": "WgYmrJ-DLgt0"
   },
   "outputs": [
    {
     "data": {
      "text/html": [
       "<div>\n",
       "<style scoped>\n",
       "    .dataframe tbody tr th:only-of-type {\n",
       "        vertical-align: middle;\n",
       "    }\n",
       "\n",
       "    .dataframe tbody tr th {\n",
       "        vertical-align: top;\n",
       "    }\n",
       "\n",
       "    .dataframe thead th {\n",
       "        text-align: right;\n",
       "    }\n",
       "</style>\n",
       "<table border=\"1\" class=\"dataframe\">\n",
       "  <thead>\n",
       "    <tr style=\"text-align: right;\">\n",
       "      <th></th>\n",
       "      <th>IdCRM</th>\n",
       "      <th>nombre</th>\n",
       "      <th>apellido</th>\n",
       "      <th>Fecha_Nacimiento</th>\n",
       "      <th>Tipo_Documento</th>\n",
       "      <th>Numero_Documento</th>\n",
       "      <th>Genero</th>\n",
       "      <th>cGenero</th>\n",
       "      <th>Provincia</th>\n",
       "      <th>Codigo_Postal</th>\n",
       "      <th>...</th>\n",
       "      <th>MONTO RECLAMADO</th>\n",
       "      <th>MONTO RECHAZADO</th>\n",
       "      <th>Edad Venta</th>\n",
       "      <th>Edad Siniestro</th>\n",
       "      <th>Rango Etario Venta</th>\n",
       "      <th>Rango Etario Siniestros</th>\n",
       "      <th>Producto1</th>\n",
       "      <th>Producto2</th>\n",
       "      <th>Producto3</th>\n",
       "      <th>PRODUCT</th>\n",
       "    </tr>\n",
       "  </thead>\n",
       "  <tbody>\n",
       "    <tr>\n",
       "      <th>0</th>\n",
       "      <td>A522CAFA-93B9-43C1-A35C-5C479B2DF504</td>\n",
       "      <td>NaN</td>\n",
       "      <td>NaN</td>\n",
       "      <td>1953-04-11 00:00:00</td>\n",
       "      <td>DNI</td>\n",
       "      <td>40925053</td>\n",
       "      <td>1.0</td>\n",
       "      <td>MASCULINO</td>\n",
       "      <td>Buenos Aires</td>\n",
       "      <td>1663</td>\n",
       "      <td>...</td>\n",
       "      <td>NaN</td>\n",
       "      <td>NaN</td>\n",
       "      <td>66.0</td>\n",
       "      <td>NaN</td>\n",
       "      <td>61-70</td>\n",
       "      <td>NaN</td>\n",
       "      <td>Garantia Extendida</td>\n",
       "      <td>NaN</td>\n",
       "      <td>NaN</td>\n",
       "      <td>Garantia Extendida</td>\n",
       "    </tr>\n",
       "    <tr>\n",
       "      <th>4</th>\n",
       "      <td>CB0D813F-50C3-4E62-979B-0A15C799ACED</td>\n",
       "      <td>NaN</td>\n",
       "      <td>NaN</td>\n",
       "      <td>1984-02-21 00:00:00</td>\n",
       "      <td>DNI</td>\n",
       "      <td>30805859</td>\n",
       "      <td>2.0</td>\n",
       "      <td>FEMENINO</td>\n",
       "      <td>Catamarca</td>\n",
       "      <td>4700</td>\n",
       "      <td>...</td>\n",
       "      <td>NaN</td>\n",
       "      <td>NaN</td>\n",
       "      <td>36.0</td>\n",
       "      <td>NaN</td>\n",
       "      <td>35-45</td>\n",
       "      <td>NaN</td>\n",
       "      <td>Garantia Extendida</td>\n",
       "      <td>NaN</td>\n",
       "      <td>NaN</td>\n",
       "      <td>Garantia Extendida</td>\n",
       "    </tr>\n",
       "    <tr>\n",
       "      <th>5</th>\n",
       "      <td>5DDB2CF6-14A7-4321-9949-64F9970B65F9</td>\n",
       "      <td>NaN</td>\n",
       "      <td>NaN</td>\n",
       "      <td>1936-08-07 00:00:00</td>\n",
       "      <td>DNI</td>\n",
       "      <td>3059072</td>\n",
       "      <td>2.0</td>\n",
       "      <td>FEMENINO</td>\n",
       "      <td>Buenos Aires</td>\n",
       "      <td>1611</td>\n",
       "      <td>...</td>\n",
       "      <td>NaN</td>\n",
       "      <td>NaN</td>\n",
       "      <td>84.0</td>\n",
       "      <td>NaN</td>\n",
       "      <td>&gt;70</td>\n",
       "      <td>NaN</td>\n",
       "      <td>Garantia Extendida</td>\n",
       "      <td>NaN</td>\n",
       "      <td>NaN</td>\n",
       "      <td>Garantia Extendida</td>\n",
       "    </tr>\n",
       "    <tr>\n",
       "      <th>7</th>\n",
       "      <td>5D6557AF-220B-4523-BBC3-0C592284107F</td>\n",
       "      <td>NaN</td>\n",
       "      <td>NaN</td>\n",
       "      <td>1969-08-04 00:00:00</td>\n",
       "      <td>DNI</td>\n",
       "      <td>22585586</td>\n",
       "      <td>2.0</td>\n",
       "      <td>FEMENINO</td>\n",
       "      <td>Capital Federal</td>\n",
       "      <td>1096</td>\n",
       "      <td>...</td>\n",
       "      <td>NaN</td>\n",
       "      <td>NaN</td>\n",
       "      <td>51.0</td>\n",
       "      <td>NaN</td>\n",
       "      <td>46-60</td>\n",
       "      <td>NaN</td>\n",
       "      <td>NaN</td>\n",
       "      <td>INC070</td>\n",
       "      <td>Bolso Protegido - Suc- 001 II</td>\n",
       "      <td>IQC070</td>\n",
       "    </tr>\n",
       "    <tr>\n",
       "      <th>8</th>\n",
       "      <td>B7A05CAC-0623-447B-B34E-7442406E36D2</td>\n",
       "      <td>NaN</td>\n",
       "      <td>NaN</td>\n",
       "      <td>1964-07-30 00:00:00</td>\n",
       "      <td>DNI</td>\n",
       "      <td>47020559</td>\n",
       "      <td>1.0</td>\n",
       "      <td>MASCULINO</td>\n",
       "      <td>Buenos Aires</td>\n",
       "      <td>1834</td>\n",
       "      <td>...</td>\n",
       "      <td>NaN</td>\n",
       "      <td>NaN</td>\n",
       "      <td>55.0</td>\n",
       "      <td>NaN</td>\n",
       "      <td>46-60</td>\n",
       "      <td>NaN</td>\n",
       "      <td>Garantia Extendida</td>\n",
       "      <td>NaN</td>\n",
       "      <td>NaN</td>\n",
       "      <td>Garantia Extendida</td>\n",
       "    </tr>\n",
       "  </tbody>\n",
       "</table>\n",
       "<p>5 rows × 38 columns</p>\n",
       "</div>"
      ],
      "text/plain": [
       "                                  IdCRM  nombre  apellido  \\\n",
       "0  A522CAFA-93B9-43C1-A35C-5C479B2DF504     NaN       NaN   \n",
       "4  CB0D813F-50C3-4E62-979B-0A15C799ACED     NaN       NaN   \n",
       "5  5DDB2CF6-14A7-4321-9949-64F9970B65F9     NaN       NaN   \n",
       "7  5D6557AF-220B-4523-BBC3-0C592284107F     NaN       NaN   \n",
       "8  B7A05CAC-0623-447B-B34E-7442406E36D2     NaN       NaN   \n",
       "\n",
       "      Fecha_Nacimiento Tipo_Documento Numero_Documento  Genero    cGenero  \\\n",
       "0  1953-04-11 00:00:00            DNI         40925053     1.0  MASCULINO   \n",
       "4  1984-02-21 00:00:00            DNI         30805859     2.0   FEMENINO   \n",
       "5  1936-08-07 00:00:00            DNI          3059072     2.0   FEMENINO   \n",
       "7  1969-08-04 00:00:00            DNI         22585586     2.0   FEMENINO   \n",
       "8  1964-07-30 00:00:00            DNI         47020559     1.0  MASCULINO   \n",
       "\n",
       "         Provincia Codigo_Postal  ... MONTO RECLAMADO MONTO RECHAZADO  \\\n",
       "0     Buenos Aires          1663  ...             NaN             NaN   \n",
       "4        Catamarca          4700  ...             NaN             NaN   \n",
       "5     Buenos Aires          1611  ...             NaN             NaN   \n",
       "7  Capital Federal          1096  ...             NaN             NaN   \n",
       "8     Buenos Aires          1834  ...             NaN             NaN   \n",
       "\n",
       "  Edad Venta Edad Siniestro Rango Etario Venta Rango Etario Siniestros  \\\n",
       "0       66.0            NaN              61-70                     NaN   \n",
       "4       36.0            NaN              35-45                     NaN   \n",
       "5       84.0            NaN                >70                     NaN   \n",
       "7       51.0            NaN              46-60                     NaN   \n",
       "8       55.0            NaN              46-60                     NaN   \n",
       "\n",
       "            Producto1 Producto2                      Producto3  \\\n",
       "0  Garantia Extendida       NaN                            NaN   \n",
       "4  Garantia Extendida       NaN                            NaN   \n",
       "5  Garantia Extendida       NaN                            NaN   \n",
       "7                 NaN    INC070  Bolso Protegido - Suc- 001 II   \n",
       "8  Garantia Extendida       NaN                            NaN   \n",
       "\n",
       "              PRODUCT  \n",
       "0  Garantia Extendida  \n",
       "4  Garantia Extendida  \n",
       "5  Garantia Extendida  \n",
       "7              IQC070  \n",
       "8  Garantia Extendida  \n",
       "\n",
       "[5 rows x 38 columns]"
      ]
     },
     "execution_count": 8,
     "metadata": {},
     "output_type": "execute_result"
    }
   ],
   "source": [
    "filtroanio=cartera['Fecha_Venta']>='2019-01-01'\n",
    "cartera20192022=cartera[filtroanio]\n",
    "cartera20192022.head()"
   ]
  },
  {
   "cell_type": "code",
   "execution_count": 9,
   "metadata": {
    "id": "C9_jaZfwP9Io"
   },
   "outputs": [
    {
     "data": {
      "text/plain": [
       "(165617, 38)"
      ]
     },
     "execution_count": 9,
     "metadata": {},
     "output_type": "execute_result"
    }
   ],
   "source": [
    "cartera20192022.shape"
   ]
  },
  {
   "cell_type": "code",
   "execution_count": 10,
   "metadata": {
    "id": "0KF8FVuWP9Kn"
   },
   "outputs": [
    {
     "data": {
      "text/plain": [
       "Index(['IdCRM', 'nombre', 'apellido', 'Fecha_Nacimiento', 'Tipo_Documento',\n",
       "       'Numero_Documento', 'Genero', 'cGenero', 'Provincia', 'Codigo_Postal',\n",
       "       'Producto', 'Fecha_Venta', 'Inicio_Vigencia', 'Fin_Vigencia', 'Cartera',\n",
       "       'Socio', 'Cuit_Socio', 'Estado_Certificado', 'Poliza', 'Canal_Venta',\n",
       "       'Certificado', 'importe_ultima_prima', 'estado_ultima_prima',\n",
       "       'Fecha_ultima_prima', 'Codigo_Vendedor', 'Nombre_Vendedor',\n",
       "       'CDescripcionPlan', 'Fecha Siniestro', 'MONTO RECLAMADO',\n",
       "       'MONTO RECHAZADO', 'Edad Venta', 'Edad Siniestro', 'Rango Etario Venta',\n",
       "       'Rango Etario Siniestros', 'Producto1', 'Producto2', 'Producto3',\n",
       "       'PRODUCT'],\n",
       "      dtype='object')"
      ]
     },
     "execution_count": 10,
     "metadata": {},
     "output_type": "execute_result"
    }
   ],
   "source": [
    "cartera20192022.columns"
   ]
  },
  {
   "cell_type": "code",
   "execution_count": 12,
   "metadata": {
    "id": "A5Q06CQ4P9Mn"
   },
   "outputs": [
    {
     "data": {
      "text/html": [
       "<div>\n",
       "<style scoped>\n",
       "    .dataframe tbody tr th:only-of-type {\n",
       "        vertical-align: middle;\n",
       "    }\n",
       "\n",
       "    .dataframe tbody tr th {\n",
       "        vertical-align: top;\n",
       "    }\n",
       "\n",
       "    .dataframe thead th {\n",
       "        text-align: right;\n",
       "    }\n",
       "</style>\n",
       "<table border=\"1\" class=\"dataframe\">\n",
       "  <thead>\n",
       "    <tr style=\"text-align: right;\">\n",
       "      <th></th>\n",
       "      <th>IdCRM</th>\n",
       "      <th>nombre</th>\n",
       "      <th>apellido</th>\n",
       "      <th>Fecha_Nacimiento</th>\n",
       "      <th>Tipo_Documento</th>\n",
       "      <th>Numero_Documento</th>\n",
       "      <th>Genero</th>\n",
       "      <th>cGenero</th>\n",
       "      <th>Provincia</th>\n",
       "      <th>Codigo_Postal</th>\n",
       "      <th>...</th>\n",
       "      <th>Edad Venta</th>\n",
       "      <th>Edad Siniestro</th>\n",
       "      <th>Rango Etario Venta</th>\n",
       "      <th>Rango Etario Siniestros</th>\n",
       "      <th>Producto1</th>\n",
       "      <th>Producto2</th>\n",
       "      <th>Producto3</th>\n",
       "      <th>PRODUCT</th>\n",
       "      <th>CODIGO_PRODUCTO</th>\n",
       "      <th>SCASART_PRODUCT</th>\n",
       "    </tr>\n",
       "  </thead>\n",
       "  <tbody>\n",
       "    <tr>\n",
       "      <th>0</th>\n",
       "      <td>5D6557AF-220B-4523-BBC3-0C592284107F</td>\n",
       "      <td>NaN</td>\n",
       "      <td>NaN</td>\n",
       "      <td>1969-08-04 00:00:00</td>\n",
       "      <td>DNI</td>\n",
       "      <td>22585586</td>\n",
       "      <td>2.0</td>\n",
       "      <td>FEMENINO</td>\n",
       "      <td>Capital Federal</td>\n",
       "      <td>1096</td>\n",
       "      <td>...</td>\n",
       "      <td>51.0</td>\n",
       "      <td>NaN</td>\n",
       "      <td>46-60</td>\n",
       "      <td>NaN</td>\n",
       "      <td>NaN</td>\n",
       "      <td>INC070</td>\n",
       "      <td>Bolso Protegido - Suc- 001 II</td>\n",
       "      <td>IQC070</td>\n",
       "      <td>IQC070</td>\n",
       "      <td>CARTERAS</td>\n",
       "    </tr>\n",
       "    <tr>\n",
       "      <th>1</th>\n",
       "      <td>6338666C-B56E-4482-823E-EB89537AB3D0</td>\n",
       "      <td>NaN</td>\n",
       "      <td>NaN</td>\n",
       "      <td>1966-01-05 00:00:00</td>\n",
       "      <td>DNI</td>\n",
       "      <td>47522658</td>\n",
       "      <td>2.0</td>\n",
       "      <td>FEMENINO</td>\n",
       "      <td>Buenos Aires</td>\n",
       "      <td>1738</td>\n",
       "      <td>...</td>\n",
       "      <td>56.0</td>\n",
       "      <td>NaN</td>\n",
       "      <td>46-60</td>\n",
       "      <td>NaN</td>\n",
       "      <td>NaN</td>\n",
       "      <td>INC070</td>\n",
       "      <td>Bolso Protegido - Suc- 001 II</td>\n",
       "      <td>IQC070</td>\n",
       "      <td>IQC070</td>\n",
       "      <td>CARTERAS</td>\n",
       "    </tr>\n",
       "    <tr>\n",
       "      <th>2</th>\n",
       "      <td>25ECF3DD-6949-4A94-855E-7576B08138B4</td>\n",
       "      <td>NaN</td>\n",
       "      <td>NaN</td>\n",
       "      <td>1982-05-23 00:00:00</td>\n",
       "      <td>DNI</td>\n",
       "      <td>95472244</td>\n",
       "      <td>2.0</td>\n",
       "      <td>FEMENINO</td>\n",
       "      <td>Buenos Aires</td>\n",
       "      <td>1862</td>\n",
       "      <td>...</td>\n",
       "      <td>37.0</td>\n",
       "      <td>NaN</td>\n",
       "      <td>35-45</td>\n",
       "      <td>NaN</td>\n",
       "      <td>NaN</td>\n",
       "      <td>INC070</td>\n",
       "      <td>Bolso Protegido - Suc- 001 II</td>\n",
       "      <td>IQC070</td>\n",
       "      <td>IQC070</td>\n",
       "      <td>CARTERAS</td>\n",
       "    </tr>\n",
       "    <tr>\n",
       "      <th>3</th>\n",
       "      <td>695EF85D-EE83-4397-B20A-D6AE4EBDFE42</td>\n",
       "      <td>NaN</td>\n",
       "      <td>NaN</td>\n",
       "      <td>1991-03-21 00:00:00</td>\n",
       "      <td>DNI</td>\n",
       "      <td>36475305</td>\n",
       "      <td>2.0</td>\n",
       "      <td>FEMENINO</td>\n",
       "      <td>Buenos Aires</td>\n",
       "      <td>1678</td>\n",
       "      <td>...</td>\n",
       "      <td>30.0</td>\n",
       "      <td>NaN</td>\n",
       "      <td>26-34</td>\n",
       "      <td>NaN</td>\n",
       "      <td>NaN</td>\n",
       "      <td>INC070</td>\n",
       "      <td>Bolso Protegido - Suc- 001 II</td>\n",
       "      <td>IQC070</td>\n",
       "      <td>IQC070</td>\n",
       "      <td>CARTERAS</td>\n",
       "    </tr>\n",
       "    <tr>\n",
       "      <th>4</th>\n",
       "      <td>3ABF21B1-24A4-491E-B303-316903CF25D5</td>\n",
       "      <td>NaN</td>\n",
       "      <td>NaN</td>\n",
       "      <td>1970-09-28 00:00:00</td>\n",
       "      <td>DNI</td>\n",
       "      <td>95072028</td>\n",
       "      <td>2.0</td>\n",
       "      <td>FEMENINO</td>\n",
       "      <td>Buenos Aires</td>\n",
       "      <td>1613</td>\n",
       "      <td>...</td>\n",
       "      <td>51.0</td>\n",
       "      <td>NaN</td>\n",
       "      <td>46-60</td>\n",
       "      <td>NaN</td>\n",
       "      <td>NaN</td>\n",
       "      <td>INC070</td>\n",
       "      <td>Bolso Protegido - Suc- 001 II</td>\n",
       "      <td>IQC070</td>\n",
       "      <td>IQC070</td>\n",
       "      <td>CARTERAS</td>\n",
       "    </tr>\n",
       "  </tbody>\n",
       "</table>\n",
       "<p>5 rows × 40 columns</p>\n",
       "</div>"
      ],
      "text/plain": [
       "                                  IdCRM  nombre  apellido  \\\n",
       "0  5D6557AF-220B-4523-BBC3-0C592284107F     NaN       NaN   \n",
       "1  6338666C-B56E-4482-823E-EB89537AB3D0     NaN       NaN   \n",
       "2  25ECF3DD-6949-4A94-855E-7576B08138B4     NaN       NaN   \n",
       "3  695EF85D-EE83-4397-B20A-D6AE4EBDFE42     NaN       NaN   \n",
       "4  3ABF21B1-24A4-491E-B303-316903CF25D5     NaN       NaN   \n",
       "\n",
       "      Fecha_Nacimiento Tipo_Documento Numero_Documento  Genero   cGenero  \\\n",
       "0  1969-08-04 00:00:00            DNI         22585586     2.0  FEMENINO   \n",
       "1  1966-01-05 00:00:00            DNI         47522658     2.0  FEMENINO   \n",
       "2  1982-05-23 00:00:00            DNI         95472244     2.0  FEMENINO   \n",
       "3  1991-03-21 00:00:00            DNI         36475305     2.0  FEMENINO   \n",
       "4  1970-09-28 00:00:00            DNI         95072028     2.0  FEMENINO   \n",
       "\n",
       "         Provincia Codigo_Postal  ... Edad Venta Edad Siniestro  \\\n",
       "0  Capital Federal          1096  ...       51.0            NaN   \n",
       "1     Buenos Aires          1738  ...       56.0            NaN   \n",
       "2     Buenos Aires          1862  ...       37.0            NaN   \n",
       "3     Buenos Aires          1678  ...       30.0            NaN   \n",
       "4     Buenos Aires          1613  ...       51.0            NaN   \n",
       "\n",
       "  Rango Etario Venta Rango Etario Siniestros Producto1 Producto2  \\\n",
       "0              46-60                     NaN       NaN    INC070   \n",
       "1              46-60                     NaN       NaN    INC070   \n",
       "2              35-45                     NaN       NaN    INC070   \n",
       "3              26-34                     NaN       NaN    INC070   \n",
       "4              46-60                     NaN       NaN    INC070   \n",
       "\n",
       "                       Producto3 PRODUCT CODIGO_PRODUCTO SCASART_PRODUCT  \n",
       "0  Bolso Protegido - Suc- 001 II  IQC070          IQC070        CARTERAS  \n",
       "1  Bolso Protegido - Suc- 001 II  IQC070          IQC070        CARTERAS  \n",
       "2  Bolso Protegido - Suc- 001 II  IQC070          IQC070        CARTERAS  \n",
       "3  Bolso Protegido - Suc- 001 II  IQC070          IQC070        CARTERAS  \n",
       "4  Bolso Protegido - Suc- 001 II  IQC070          IQC070        CARTERAS  \n",
       "\n",
       "[5 rows x 40 columns]"
      ]
     },
     "execution_count": 12,
     "metadata": {},
     "output_type": "execute_result"
    }
   ],
   "source": [
    "cartera20192022prod=cartera20192022.merge(productos, left_on='PRODUCT', right_on='CODIGO_PRODUCTO',how='inner')\n",
    "cartera20192022prod.head()"
   ]
  },
  {
   "cell_type": "code",
   "execution_count": 13,
   "metadata": {
    "id": "AEfsvqg2P9Ou"
   },
   "outputs": [
    {
     "data": {
      "text/plain": [
       "(119065, 40)"
      ]
     },
     "execution_count": 13,
     "metadata": {},
     "output_type": "execute_result"
    }
   ],
   "source": [
    "cartera20192022prod.shape"
   ]
  },
  {
   "cell_type": "markdown",
   "metadata": {
    "id": "T0te3wIMREOk"
   },
   "source": [
    "# **SINIESTROS**"
   ]
  },
  {
   "cell_type": "code",
   "execution_count": 15,
   "metadata": {
    "id": "Dxa-sWIHP9Ts"
   },
   "outputs": [
    {
     "data": {
      "text/html": [
       "<div>\n",
       "<style scoped>\n",
       "    .dataframe tbody tr th:only-of-type {\n",
       "        vertical-align: middle;\n",
       "    }\n",
       "\n",
       "    .dataframe tbody tr th {\n",
       "        vertical-align: top;\n",
       "    }\n",
       "\n",
       "    .dataframe thead th {\n",
       "        text-align: right;\n",
       "    }\n",
       "</style>\n",
       "<table border=\"1\" class=\"dataframe\">\n",
       "  <thead>\n",
       "    <tr style=\"text-align: right;\">\n",
       "      <th></th>\n",
       "      <th>SINIESTROS_FECHA_DENUNCIA</th>\n",
       "      <th>SINIESTROS_ESTADO_ID</th>\n",
       "      <th>SINIESTROS_CERTIFICATE</th>\n",
       "      <th>SINIESTROS_SOCIO_ID</th>\n",
       "      <th>SINIESTROS_PRODUCTO_ID</th>\n",
       "      <th>SINIESTROS_NUMERODOCUMENTO</th>\n",
       "      <th>SINIESTROS_CANAL_ID</th>\n",
       "      <th>SINIESTROS_NMONTORECLAMADO</th>\n",
       "      <th>SINIESTROS_NMONTORECHAZADO</th>\n",
       "      <th>SINIESTROS_FECHA_DENUNCIA.1</th>\n",
       "      <th>SINIESTROS_ESTADO_ID.1</th>\n",
       "    </tr>\n",
       "  </thead>\n",
       "  <tbody>\n",
       "    <tr>\n",
       "      <th>0</th>\n",
       "      <td>27/12/2021</td>\n",
       "      <td>T</td>\n",
       "      <td>IN72018749</td>\n",
       "      <td>3068731043</td>\n",
       "      <td>887</td>\n",
       "      <td>44826459</td>\n",
       "      <td>1</td>\n",
       "      <td>22000.0</td>\n",
       "      <td>NaN</td>\n",
       "      <td>27/12/2021</td>\n",
       "      <td>T</td>\n",
       "    </tr>\n",
       "    <tr>\n",
       "      <th>1</th>\n",
       "      <td>27/12/2021</td>\n",
       "      <td>T</td>\n",
       "      <td>IN70009688</td>\n",
       "      <td>3068731043</td>\n",
       "      <td>885</td>\n",
       "      <td>40525592</td>\n",
       "      <td>1</td>\n",
       "      <td>62000.0</td>\n",
       "      <td>NaN</td>\n",
       "      <td>27/12/2021</td>\n",
       "      <td>T</td>\n",
       "    </tr>\n",
       "    <tr>\n",
       "      <th>2</th>\n",
       "      <td>07/01/2022</td>\n",
       "      <td>T</td>\n",
       "      <td>IN72009886</td>\n",
       "      <td>3068731043</td>\n",
       "      <td>887</td>\n",
       "      <td>30054565</td>\n",
       "      <td>1</td>\n",
       "      <td>25500.0</td>\n",
       "      <td>NaN</td>\n",
       "      <td>07/01/2022</td>\n",
       "      <td>T</td>\n",
       "    </tr>\n",
       "    <tr>\n",
       "      <th>3</th>\n",
       "      <td>07/01/2022</td>\n",
       "      <td>H</td>\n",
       "      <td>IN72016008</td>\n",
       "      <td>3068731043</td>\n",
       "      <td>887</td>\n",
       "      <td>28253573</td>\n",
       "      <td>1</td>\n",
       "      <td>60000.0</td>\n",
       "      <td>NaN</td>\n",
       "      <td>07/01/2022</td>\n",
       "      <td>H</td>\n",
       "    </tr>\n",
       "    <tr>\n",
       "      <th>4</th>\n",
       "      <td>07/01/2022</td>\n",
       "      <td>R</td>\n",
       "      <td>IN72018324</td>\n",
       "      <td>3068731043</td>\n",
       "      <td>887</td>\n",
       "      <td>35121766</td>\n",
       "      <td>1</td>\n",
       "      <td>55990.0</td>\n",
       "      <td>52800.0</td>\n",
       "      <td>07/01/2022</td>\n",
       "      <td>R</td>\n",
       "    </tr>\n",
       "  </tbody>\n",
       "</table>\n",
       "</div>"
      ],
      "text/plain": [
       "  SINIESTROS_FECHA_DENUNCIA SINIESTROS_ESTADO_ID SINIESTROS_CERTIFICATE  \\\n",
       "0                27/12/2021                    T             IN72018749   \n",
       "1                27/12/2021                    T             IN70009688   \n",
       "2                07/01/2022                    T             IN72009886   \n",
       "3                07/01/2022                    H             IN72016008   \n",
       "4                07/01/2022                    R             IN72018324   \n",
       "\n",
       "   SINIESTROS_SOCIO_ID  SINIESTROS_PRODUCTO_ID  SINIESTROS_NUMERODOCUMENTO  \\\n",
       "0           3068731043                     887                    44826459   \n",
       "1           3068731043                     885                    40525592   \n",
       "2           3068731043                     887                    30054565   \n",
       "3           3068731043                     887                    28253573   \n",
       "4           3068731043                     887                    35121766   \n",
       "\n",
       "   SINIESTROS_CANAL_ID  SINIESTROS_NMONTORECLAMADO  \\\n",
       "0                    1                     22000.0   \n",
       "1                    1                     62000.0   \n",
       "2                    1                     25500.0   \n",
       "3                    1                     60000.0   \n",
       "4                    1                     55990.0   \n",
       "\n",
       "   SINIESTROS_NMONTORECHAZADO SINIESTROS_FECHA_DENUNCIA.1  \\\n",
       "0                         NaN                  27/12/2021   \n",
       "1                         NaN                  27/12/2021   \n",
       "2                         NaN                  07/01/2022   \n",
       "3                         NaN                  07/01/2022   \n",
       "4                     52800.0                  07/01/2022   \n",
       "\n",
       "  SINIESTROS_ESTADO_ID.1  \n",
       "0                      T  \n",
       "1                      T  \n",
       "2                      T  \n",
       "3                      H  \n",
       "4                      R  "
      ]
     },
     "execution_count": 15,
     "metadata": {},
     "output_type": "execute_result"
    }
   ],
   "source": [
    "siniestros=pd.read_excel(r\"C:\\Users\\vitto\\PROYECTOS ANACONDA\\Cartera y Uso\\Cartera y Siniestros.xlsx\", sheet_name='Siniestros')     #lectura del archivo\n",
    "siniestros.head()"
   ]
  },
  {
   "cell_type": "code",
   "execution_count": 16,
   "metadata": {
    "id": "fwgQ3EpUQHWT"
   },
   "outputs": [],
   "source": [
    "siniestros['SINIESTROS_FECHA_DENUNCIA']=pd.to_datetime(siniestros['SINIESTROS_FECHA_DENUNCIA'], format=\"%d/%m/%Y\")\n",
    "#convertir a formato fecha compatible con cartera"
   ]
  },
  {
   "cell_type": "code",
   "execution_count": 18,
   "metadata": {
    "id": "pDQRvertQHYh"
   },
   "outputs": [
    {
     "data": {
      "text/html": [
       "<div>\n",
       "<style scoped>\n",
       "    .dataframe tbody tr th:only-of-type {\n",
       "        vertical-align: middle;\n",
       "    }\n",
       "\n",
       "    .dataframe tbody tr th {\n",
       "        vertical-align: top;\n",
       "    }\n",
       "\n",
       "    .dataframe thead th {\n",
       "        text-align: right;\n",
       "    }\n",
       "</style>\n",
       "<table border=\"1\" class=\"dataframe\">\n",
       "  <thead>\n",
       "    <tr style=\"text-align: right;\">\n",
       "      <th></th>\n",
       "      <th>SINIESTROS_FECHA_DENUNCIA</th>\n",
       "      <th>SINIESTROS_ESTADO_ID</th>\n",
       "      <th>SINIESTROS_CERTIFICATE</th>\n",
       "      <th>SINIESTROS_SOCIO_ID</th>\n",
       "      <th>SINIESTROS_PRODUCTO_ID</th>\n",
       "      <th>SINIESTROS_NUMERODOCUMENTO</th>\n",
       "      <th>SINIESTROS_CANAL_ID</th>\n",
       "      <th>SINIESTROS_NMONTORECLAMADO</th>\n",
       "      <th>SINIESTROS_NMONTORECHAZADO</th>\n",
       "      <th>SINIESTROS_FECHA_DENUNCIA.1</th>\n",
       "      <th>SINIESTROS_ESTADO_ID.1</th>\n",
       "    </tr>\n",
       "  </thead>\n",
       "  <tbody>\n",
       "    <tr>\n",
       "      <th>0</th>\n",
       "      <td>2021-12-27</td>\n",
       "      <td>T</td>\n",
       "      <td>IN72018749</td>\n",
       "      <td>3068731043</td>\n",
       "      <td>887</td>\n",
       "      <td>44826459</td>\n",
       "      <td>1</td>\n",
       "      <td>22000.0</td>\n",
       "      <td>NaN</td>\n",
       "      <td>27/12/2021</td>\n",
       "      <td>T</td>\n",
       "    </tr>\n",
       "    <tr>\n",
       "      <th>1</th>\n",
       "      <td>2021-12-27</td>\n",
       "      <td>T</td>\n",
       "      <td>IN70009688</td>\n",
       "      <td>3068731043</td>\n",
       "      <td>885</td>\n",
       "      <td>40525592</td>\n",
       "      <td>1</td>\n",
       "      <td>62000.0</td>\n",
       "      <td>NaN</td>\n",
       "      <td>27/12/2021</td>\n",
       "      <td>T</td>\n",
       "    </tr>\n",
       "    <tr>\n",
       "      <th>2</th>\n",
       "      <td>2022-01-07</td>\n",
       "      <td>T</td>\n",
       "      <td>IN72009886</td>\n",
       "      <td>3068731043</td>\n",
       "      <td>887</td>\n",
       "      <td>30054565</td>\n",
       "      <td>1</td>\n",
       "      <td>25500.0</td>\n",
       "      <td>NaN</td>\n",
       "      <td>07/01/2022</td>\n",
       "      <td>T</td>\n",
       "    </tr>\n",
       "    <tr>\n",
       "      <th>3</th>\n",
       "      <td>2022-01-07</td>\n",
       "      <td>H</td>\n",
       "      <td>IN72016008</td>\n",
       "      <td>3068731043</td>\n",
       "      <td>887</td>\n",
       "      <td>28253573</td>\n",
       "      <td>1</td>\n",
       "      <td>60000.0</td>\n",
       "      <td>NaN</td>\n",
       "      <td>07/01/2022</td>\n",
       "      <td>H</td>\n",
       "    </tr>\n",
       "    <tr>\n",
       "      <th>4</th>\n",
       "      <td>2022-01-07</td>\n",
       "      <td>R</td>\n",
       "      <td>IN72018324</td>\n",
       "      <td>3068731043</td>\n",
       "      <td>887</td>\n",
       "      <td>35121766</td>\n",
       "      <td>1</td>\n",
       "      <td>55990.0</td>\n",
       "      <td>52800.0</td>\n",
       "      <td>07/01/2022</td>\n",
       "      <td>R</td>\n",
       "    </tr>\n",
       "  </tbody>\n",
       "</table>\n",
       "</div>"
      ],
      "text/plain": [
       "  SINIESTROS_FECHA_DENUNCIA SINIESTROS_ESTADO_ID SINIESTROS_CERTIFICATE  \\\n",
       "0                2021-12-27                    T             IN72018749   \n",
       "1                2021-12-27                    T             IN70009688   \n",
       "2                2022-01-07                    T             IN72009886   \n",
       "3                2022-01-07                    H             IN72016008   \n",
       "4                2022-01-07                    R             IN72018324   \n",
       "\n",
       "   SINIESTROS_SOCIO_ID  SINIESTROS_PRODUCTO_ID  SINIESTROS_NUMERODOCUMENTO  \\\n",
       "0           3068731043                     887                    44826459   \n",
       "1           3068731043                     885                    40525592   \n",
       "2           3068731043                     887                    30054565   \n",
       "3           3068731043                     887                    28253573   \n",
       "4           3068731043                     887                    35121766   \n",
       "\n",
       "   SINIESTROS_CANAL_ID  SINIESTROS_NMONTORECLAMADO  \\\n",
       "0                    1                     22000.0   \n",
       "1                    1                     62000.0   \n",
       "2                    1                     25500.0   \n",
       "3                    1                     60000.0   \n",
       "4                    1                     55990.0   \n",
       "\n",
       "   SINIESTROS_NMONTORECHAZADO SINIESTROS_FECHA_DENUNCIA.1  \\\n",
       "0                         NaN                  27/12/2021   \n",
       "1                         NaN                  27/12/2021   \n",
       "2                         NaN                  07/01/2022   \n",
       "3                         NaN                  07/01/2022   \n",
       "4                     52800.0                  07/01/2022   \n",
       "\n",
       "  SINIESTROS_ESTADO_ID.1  \n",
       "0                      T  \n",
       "1                      T  \n",
       "2                      T  \n",
       "3                      H  \n",
       "4                      R  "
      ]
     },
     "execution_count": 18,
     "metadata": {},
     "output_type": "execute_result"
    }
   ],
   "source": [
    "filtroaniosin=siniestros['SINIESTROS_FECHA_DENUNCIA']>='2019-01-01'\n",
    "siniestros20192022=siniestros[filtroaniosin]\n",
    "siniestros20192022.head()"
   ]
  },
  {
   "cell_type": "code",
   "execution_count": 19,
   "metadata": {
    "id": "4ytIK3O_QHgH"
   },
   "outputs": [
    {
     "data": {
      "text/plain": [
       "(3853, 11)"
      ]
     },
     "execution_count": 19,
     "metadata": {},
     "output_type": "execute_result"
    }
   ],
   "source": [
    "siniestros20192022.shape"
   ]
  },
  {
   "cell_type": "markdown",
   "metadata": {
    "id": "_j6EyqDMQRSW"
   },
   "source": [
    "# **EVALUACIÓN DE LA CARTERA**"
   ]
  },
  {
   "cell_type": "code",
   "execution_count": 20,
   "metadata": {
    "id": "viY6e3QUQHid"
   },
   "outputs": [
    {
     "name": "stdout",
     "output_type": "stream",
     "text": [
      "<class 'pandas.core.frame.DataFrame'>\n",
      "Int64Index: 119065 entries, 0 to 119064\n",
      "Data columns (total 40 columns):\n",
      " #   Column                   Non-Null Count   Dtype         \n",
      "---  ------                   --------------   -----         \n",
      " 0   IdCRM                    119065 non-null  object        \n",
      " 1   nombre                   0 non-null       float64       \n",
      " 2   apellido                 0 non-null       float64       \n",
      " 3   Fecha_Nacimiento         118766 non-null  object        \n",
      " 4   Tipo_Documento           119065 non-null  object        \n",
      " 5   Numero_Documento         119065 non-null  object        \n",
      " 6   Genero                   119047 non-null  float64       \n",
      " 7   cGenero                  119065 non-null  object        \n",
      " 8   Provincia                48868 non-null   object        \n",
      " 9   Codigo_Postal            50941 non-null   object        \n",
      " 10  Producto                 119065 non-null  object        \n",
      " 11  Fecha_Venta              119065 non-null  datetime64[ns]\n",
      " 12  Inicio_Vigencia          119065 non-null  object        \n",
      " 13  Fin_Vigencia             116829 non-null  object        \n",
      " 14  Cartera                  119065 non-null  object        \n",
      " 15  Socio                    50064 non-null   object        \n",
      " 16  Cuit_Socio               0 non-null       float64       \n",
      " 17  Estado_Certificado       118041 non-null  object        \n",
      " 18  Poliza                   119065 non-null  object        \n",
      " 19  Canal_Venta              118509 non-null  object        \n",
      " 20  Certificado              119065 non-null  object        \n",
      " 21  importe_ultima_prima     80447 non-null   float64       \n",
      " 22  estado_ultima_prima      59788 non-null   object        \n",
      " 23  Fecha_ultima_prima       65173 non-null   object        \n",
      " 24  Codigo_Vendedor          0 non-null       float64       \n",
      " 25  Nombre_Vendedor          0 non-null       float64       \n",
      " 26  CDescripcionPlan         119065 non-null  object        \n",
      " 27  Fecha Siniestro          1548 non-null    object        \n",
      " 28  MONTO RECLAMADO          1548 non-null    float64       \n",
      " 29  MONTO RECHAZADO          309 non-null     float64       \n",
      " 30  Edad Venta               119064 non-null  float64       \n",
      " 31  Edad Siniestro           1548 non-null    float64       \n",
      " 32  Rango Etario Venta       118969 non-null  object        \n",
      " 33  Rango Etario Siniestros  1546 non-null    object        \n",
      " 34  Producto1                0 non-null       object        \n",
      " 35  Producto2                119065 non-null  object        \n",
      " 36  Producto3                119065 non-null  object        \n",
      " 37  PRODUCT                  119065 non-null  object        \n",
      " 38  CODIGO_PRODUCTO          119065 non-null  object        \n",
      " 39  SCASART_PRODUCT          119065 non-null  object        \n",
      "dtypes: datetime64[ns](1), float64(11), object(28)\n",
      "memory usage: 37.2+ MB\n"
     ]
    }
   ],
   "source": [
    "cartera20192022prod.info()"
   ]
  },
  {
   "cell_type": "code",
   "execution_count": 21,
   "metadata": {
    "id": "jZXI5vscQHkd"
   },
   "outputs": [
    {
     "data": {
      "text/html": [
       "<div>\n",
       "<style scoped>\n",
       "    .dataframe tbody tr th:only-of-type {\n",
       "        vertical-align: middle;\n",
       "    }\n",
       "\n",
       "    .dataframe tbody tr th {\n",
       "        vertical-align: top;\n",
       "    }\n",
       "\n",
       "    .dataframe thead th {\n",
       "        text-align: right;\n",
       "    }\n",
       "</style>\n",
       "<table border=\"1\" class=\"dataframe\">\n",
       "  <thead>\n",
       "    <tr style=\"text-align: right;\">\n",
       "      <th></th>\n",
       "      <th>nombre</th>\n",
       "      <th>apellido</th>\n",
       "      <th>Genero</th>\n",
       "      <th>Cuit_Socio</th>\n",
       "      <th>importe_ultima_prima</th>\n",
       "      <th>Codigo_Vendedor</th>\n",
       "      <th>Nombre_Vendedor</th>\n",
       "      <th>MONTO RECLAMADO</th>\n",
       "      <th>MONTO RECHAZADO</th>\n",
       "      <th>Edad Venta</th>\n",
       "      <th>Edad Siniestro</th>\n",
       "    </tr>\n",
       "  </thead>\n",
       "  <tbody>\n",
       "    <tr>\n",
       "      <th>count</th>\n",
       "      <td>0.0</td>\n",
       "      <td>0.0</td>\n",
       "      <td>1.190470e+05</td>\n",
       "      <td>0.0</td>\n",
       "      <td>80447.000000</td>\n",
       "      <td>0.0</td>\n",
       "      <td>0.0</td>\n",
       "      <td>1548.000000</td>\n",
       "      <td>309.000000</td>\n",
       "      <td>119064.000000</td>\n",
       "      <td>1548.000000</td>\n",
       "    </tr>\n",
       "    <tr>\n",
       "      <th>mean</th>\n",
       "      <td>NaN</td>\n",
       "      <td>NaN</td>\n",
       "      <td>9.390732e+03</td>\n",
       "      <td>NaN</td>\n",
       "      <td>267.751825</td>\n",
       "      <td>NaN</td>\n",
       "      <td>NaN</td>\n",
       "      <td>21786.400775</td>\n",
       "      <td>13063.401909</td>\n",
       "      <td>43.067879</td>\n",
       "      <td>40.813953</td>\n",
       "    </tr>\n",
       "    <tr>\n",
       "      <th>std</th>\n",
       "      <td>NaN</td>\n",
       "      <td>NaN</td>\n",
       "      <td>1.448749e+06</td>\n",
       "      <td>NaN</td>\n",
       "      <td>371.599747</td>\n",
       "      <td>NaN</td>\n",
       "      <td>NaN</td>\n",
       "      <td>21528.971823</td>\n",
       "      <td>12125.390100</td>\n",
       "      <td>14.721018</td>\n",
       "      <td>13.106851</td>\n",
       "    </tr>\n",
       "    <tr>\n",
       "      <th>min</th>\n",
       "      <td>NaN</td>\n",
       "      <td>NaN</td>\n",
       "      <td>1.000000e+00</td>\n",
       "      <td>NaN</td>\n",
       "      <td>0.000000</td>\n",
       "      <td>NaN</td>\n",
       "      <td>NaN</td>\n",
       "      <td>28.000000</td>\n",
       "      <td>0.000000</td>\n",
       "      <td>-29.000000</td>\n",
       "      <td>0.000000</td>\n",
       "    </tr>\n",
       "    <tr>\n",
       "      <th>25%</th>\n",
       "      <td>NaN</td>\n",
       "      <td>NaN</td>\n",
       "      <td>1.000000e+00</td>\n",
       "      <td>NaN</td>\n",
       "      <td>150.900000</td>\n",
       "      <td>NaN</td>\n",
       "      <td>NaN</td>\n",
       "      <td>9500.000000</td>\n",
       "      <td>5400.000000</td>\n",
       "      <td>31.000000</td>\n",
       "      <td>31.000000</td>\n",
       "    </tr>\n",
       "    <tr>\n",
       "      <th>50%</th>\n",
       "      <td>NaN</td>\n",
       "      <td>NaN</td>\n",
       "      <td>2.000000e+00</td>\n",
       "      <td>NaN</td>\n",
       "      <td>210.000000</td>\n",
       "      <td>NaN</td>\n",
       "      <td>NaN</td>\n",
       "      <td>16000.000000</td>\n",
       "      <td>10000.000000</td>\n",
       "      <td>42.000000</td>\n",
       "      <td>39.000000</td>\n",
       "    </tr>\n",
       "    <tr>\n",
       "      <th>75%</th>\n",
       "      <td>NaN</td>\n",
       "      <td>NaN</td>\n",
       "      <td>2.000000e+00</td>\n",
       "      <td>NaN</td>\n",
       "      <td>348.000000</td>\n",
       "      <td>NaN</td>\n",
       "      <td>NaN</td>\n",
       "      <td>28000.000000</td>\n",
       "      <td>18000.000000</td>\n",
       "      <td>53.000000</td>\n",
       "      <td>49.000000</td>\n",
       "    </tr>\n",
       "    <tr>\n",
       "      <th>max</th>\n",
       "      <td>NaN</td>\n",
       "      <td>NaN</td>\n",
       "      <td>2.235500e+08</td>\n",
       "      <td>NaN</td>\n",
       "      <td>15400.000000</td>\n",
       "      <td>NaN</td>\n",
       "      <td>NaN</td>\n",
       "      <td>280000.000000</td>\n",
       "      <td>83700.000000</td>\n",
       "      <td>122.000000</td>\n",
       "      <td>120.000000</td>\n",
       "    </tr>\n",
       "  </tbody>\n",
       "</table>\n",
       "</div>"
      ],
      "text/plain": [
       "       nombre  apellido        Genero  Cuit_Socio  importe_ultima_prima  \\\n",
       "count     0.0       0.0  1.190470e+05         0.0          80447.000000   \n",
       "mean      NaN       NaN  9.390732e+03         NaN            267.751825   \n",
       "std       NaN       NaN  1.448749e+06         NaN            371.599747   \n",
       "min       NaN       NaN  1.000000e+00         NaN              0.000000   \n",
       "25%       NaN       NaN  1.000000e+00         NaN            150.900000   \n",
       "50%       NaN       NaN  2.000000e+00         NaN            210.000000   \n",
       "75%       NaN       NaN  2.000000e+00         NaN            348.000000   \n",
       "max       NaN       NaN  2.235500e+08         NaN          15400.000000   \n",
       "\n",
       "       Codigo_Vendedor  Nombre_Vendedor  MONTO RECLAMADO  MONTO RECHAZADO  \\\n",
       "count              0.0              0.0      1548.000000       309.000000   \n",
       "mean               NaN              NaN     21786.400775     13063.401909   \n",
       "std                NaN              NaN     21528.971823     12125.390100   \n",
       "min                NaN              NaN        28.000000         0.000000   \n",
       "25%                NaN              NaN      9500.000000      5400.000000   \n",
       "50%                NaN              NaN     16000.000000     10000.000000   \n",
       "75%                NaN              NaN     28000.000000     18000.000000   \n",
       "max                NaN              NaN    280000.000000     83700.000000   \n",
       "\n",
       "          Edad Venta  Edad Siniestro  \n",
       "count  119064.000000     1548.000000  \n",
       "mean       43.067879       40.813953  \n",
       "std        14.721018       13.106851  \n",
       "min       -29.000000        0.000000  \n",
       "25%        31.000000       31.000000  \n",
       "50%        42.000000       39.000000  \n",
       "75%        53.000000       49.000000  \n",
       "max       122.000000      120.000000  "
      ]
     },
     "execution_count": 21,
     "metadata": {},
     "output_type": "execute_result"
    }
   ],
   "source": [
    "cartera20192022prod.describe()"
   ]
  },
  {
   "cell_type": "code",
   "execution_count": 22,
   "metadata": {
    "id": "CfBaFcitQHmX"
   },
   "outputs": [
    {
     "data": {
      "text/plain": [
       "Index(['IdCRM', 'nombre', 'apellido', 'Fecha_Nacimiento', 'Tipo_Documento',\n",
       "       'Numero_Documento', 'Genero', 'cGenero', 'Provincia', 'Codigo_Postal',\n",
       "       'Producto', 'Fecha_Venta', 'Inicio_Vigencia', 'Fin_Vigencia', 'Cartera',\n",
       "       'Socio', 'Cuit_Socio', 'Estado_Certificado', 'Poliza', 'Canal_Venta',\n",
       "       'Certificado', 'importe_ultima_prima', 'estado_ultima_prima',\n",
       "       'Fecha_ultima_prima', 'Codigo_Vendedor', 'Nombre_Vendedor',\n",
       "       'CDescripcionPlan', 'Fecha Siniestro', 'MONTO RECLAMADO',\n",
       "       'MONTO RECHAZADO', 'Edad Venta', 'Edad Siniestro', 'Rango Etario Venta',\n",
       "       'Rango Etario Siniestros', 'Producto1', 'Producto2', 'Producto3',\n",
       "       'PRODUCT', 'CODIGO_PRODUCTO', 'SCASART_PRODUCT'],\n",
       "      dtype='object')"
      ]
     },
     "execution_count": 22,
     "metadata": {},
     "output_type": "execute_result"
    }
   ],
   "source": [
    "cartera20192022prod.columns"
   ]
  },
  {
   "cell_type": "code",
   "execution_count": 23,
   "metadata": {
    "id": "S4GW7z5eQHol"
   },
   "outputs": [
    {
     "data": {
      "text/html": [
       "<div>\n",
       "<style scoped>\n",
       "    .dataframe tbody tr th:only-of-type {\n",
       "        vertical-align: middle;\n",
       "    }\n",
       "\n",
       "    .dataframe tbody tr th {\n",
       "        vertical-align: top;\n",
       "    }\n",
       "\n",
       "    .dataframe thead th {\n",
       "        text-align: right;\n",
       "    }\n",
       "</style>\n",
       "<table border=\"1\" class=\"dataframe\">\n",
       "  <thead>\n",
       "    <tr style=\"text-align: right;\">\n",
       "      <th></th>\n",
       "      <th>nombre</th>\n",
       "      <th>apellido</th>\n",
       "      <th>Genero</th>\n",
       "      <th>Cuit_Socio</th>\n",
       "      <th>importe_ultima_prima</th>\n",
       "      <th>Codigo_Vendedor</th>\n",
       "      <th>Nombre_Vendedor</th>\n",
       "      <th>MONTO RECLAMADO</th>\n",
       "      <th>MONTO RECHAZADO</th>\n",
       "      <th>Edad Venta</th>\n",
       "      <th>Edad Siniestro</th>\n",
       "    </tr>\n",
       "  </thead>\n",
       "  <tbody>\n",
       "    <tr>\n",
       "      <th>nombre</th>\n",
       "      <td>NaN</td>\n",
       "      <td>NaN</td>\n",
       "      <td>NaN</td>\n",
       "      <td>NaN</td>\n",
       "      <td>NaN</td>\n",
       "      <td>NaN</td>\n",
       "      <td>NaN</td>\n",
       "      <td>NaN</td>\n",
       "      <td>NaN</td>\n",
       "      <td>NaN</td>\n",
       "      <td>NaN</td>\n",
       "    </tr>\n",
       "    <tr>\n",
       "      <th>apellido</th>\n",
       "      <td>NaN</td>\n",
       "      <td>NaN</td>\n",
       "      <td>NaN</td>\n",
       "      <td>NaN</td>\n",
       "      <td>NaN</td>\n",
       "      <td>NaN</td>\n",
       "      <td>NaN</td>\n",
       "      <td>NaN</td>\n",
       "      <td>NaN</td>\n",
       "      <td>NaN</td>\n",
       "      <td>NaN</td>\n",
       "    </tr>\n",
       "    <tr>\n",
       "      <th>Genero</th>\n",
       "      <td>NaN</td>\n",
       "      <td>NaN</td>\n",
       "      <td>1.000000</td>\n",
       "      <td>NaN</td>\n",
       "      <td>-0.000751</td>\n",
       "      <td>NaN</td>\n",
       "      <td>NaN</td>\n",
       "      <td>-0.019500</td>\n",
       "      <td>0.061557</td>\n",
       "      <td>0.006930</td>\n",
       "      <td>0.035381</td>\n",
       "    </tr>\n",
       "    <tr>\n",
       "      <th>Cuit_Socio</th>\n",
       "      <td>NaN</td>\n",
       "      <td>NaN</td>\n",
       "      <td>NaN</td>\n",
       "      <td>NaN</td>\n",
       "      <td>NaN</td>\n",
       "      <td>NaN</td>\n",
       "      <td>NaN</td>\n",
       "      <td>NaN</td>\n",
       "      <td>NaN</td>\n",
       "      <td>NaN</td>\n",
       "      <td>NaN</td>\n",
       "    </tr>\n",
       "    <tr>\n",
       "      <th>importe_ultima_prima</th>\n",
       "      <td>NaN</td>\n",
       "      <td>NaN</td>\n",
       "      <td>-0.000751</td>\n",
       "      <td>NaN</td>\n",
       "      <td>1.000000</td>\n",
       "      <td>NaN</td>\n",
       "      <td>NaN</td>\n",
       "      <td>-0.043055</td>\n",
       "      <td>-0.129386</td>\n",
       "      <td>-0.022945</td>\n",
       "      <td>-0.040961</td>\n",
       "    </tr>\n",
       "    <tr>\n",
       "      <th>Codigo_Vendedor</th>\n",
       "      <td>NaN</td>\n",
       "      <td>NaN</td>\n",
       "      <td>NaN</td>\n",
       "      <td>NaN</td>\n",
       "      <td>NaN</td>\n",
       "      <td>NaN</td>\n",
       "      <td>NaN</td>\n",
       "      <td>NaN</td>\n",
       "      <td>NaN</td>\n",
       "      <td>NaN</td>\n",
       "      <td>NaN</td>\n",
       "    </tr>\n",
       "    <tr>\n",
       "      <th>Nombre_Vendedor</th>\n",
       "      <td>NaN</td>\n",
       "      <td>NaN</td>\n",
       "      <td>NaN</td>\n",
       "      <td>NaN</td>\n",
       "      <td>NaN</td>\n",
       "      <td>NaN</td>\n",
       "      <td>NaN</td>\n",
       "      <td>NaN</td>\n",
       "      <td>NaN</td>\n",
       "      <td>NaN</td>\n",
       "      <td>NaN</td>\n",
       "    </tr>\n",
       "    <tr>\n",
       "      <th>MONTO RECLAMADO</th>\n",
       "      <td>NaN</td>\n",
       "      <td>NaN</td>\n",
       "      <td>-0.019500</td>\n",
       "      <td>NaN</td>\n",
       "      <td>-0.043055</td>\n",
       "      <td>NaN</td>\n",
       "      <td>NaN</td>\n",
       "      <td>1.000000</td>\n",
       "      <td>0.559524</td>\n",
       "      <td>-0.020174</td>\n",
       "      <td>-0.010971</td>\n",
       "    </tr>\n",
       "    <tr>\n",
       "      <th>MONTO RECHAZADO</th>\n",
       "      <td>NaN</td>\n",
       "      <td>NaN</td>\n",
       "      <td>0.061557</td>\n",
       "      <td>NaN</td>\n",
       "      <td>-0.129386</td>\n",
       "      <td>NaN</td>\n",
       "      <td>NaN</td>\n",
       "      <td>0.559524</td>\n",
       "      <td>1.000000</td>\n",
       "      <td>-0.033664</td>\n",
       "      <td>-0.022726</td>\n",
       "    </tr>\n",
       "    <tr>\n",
       "      <th>Edad Venta</th>\n",
       "      <td>NaN</td>\n",
       "      <td>NaN</td>\n",
       "      <td>0.006930</td>\n",
       "      <td>NaN</td>\n",
       "      <td>-0.022945</td>\n",
       "      <td>NaN</td>\n",
       "      <td>NaN</td>\n",
       "      <td>-0.020174</td>\n",
       "      <td>-0.033664</td>\n",
       "      <td>1.000000</td>\n",
       "      <td>0.998439</td>\n",
       "    </tr>\n",
       "    <tr>\n",
       "      <th>Edad Siniestro</th>\n",
       "      <td>NaN</td>\n",
       "      <td>NaN</td>\n",
       "      <td>0.035381</td>\n",
       "      <td>NaN</td>\n",
       "      <td>-0.040961</td>\n",
       "      <td>NaN</td>\n",
       "      <td>NaN</td>\n",
       "      <td>-0.010971</td>\n",
       "      <td>-0.022726</td>\n",
       "      <td>0.998439</td>\n",
       "      <td>1.000000</td>\n",
       "    </tr>\n",
       "  </tbody>\n",
       "</table>\n",
       "</div>"
      ],
      "text/plain": [
       "                      nombre  apellido    Genero  Cuit_Socio  \\\n",
       "nombre                   NaN       NaN       NaN         NaN   \n",
       "apellido                 NaN       NaN       NaN         NaN   \n",
       "Genero                   NaN       NaN  1.000000         NaN   \n",
       "Cuit_Socio               NaN       NaN       NaN         NaN   \n",
       "importe_ultima_prima     NaN       NaN -0.000751         NaN   \n",
       "Codigo_Vendedor          NaN       NaN       NaN         NaN   \n",
       "Nombre_Vendedor          NaN       NaN       NaN         NaN   \n",
       "MONTO RECLAMADO          NaN       NaN -0.019500         NaN   \n",
       "MONTO RECHAZADO          NaN       NaN  0.061557         NaN   \n",
       "Edad Venta               NaN       NaN  0.006930         NaN   \n",
       "Edad Siniestro           NaN       NaN  0.035381         NaN   \n",
       "\n",
       "                      importe_ultima_prima  Codigo_Vendedor  Nombre_Vendedor  \\\n",
       "nombre                                 NaN              NaN              NaN   \n",
       "apellido                               NaN              NaN              NaN   \n",
       "Genero                           -0.000751              NaN              NaN   \n",
       "Cuit_Socio                             NaN              NaN              NaN   \n",
       "importe_ultima_prima              1.000000              NaN              NaN   \n",
       "Codigo_Vendedor                        NaN              NaN              NaN   \n",
       "Nombre_Vendedor                        NaN              NaN              NaN   \n",
       "MONTO RECLAMADO                  -0.043055              NaN              NaN   \n",
       "MONTO RECHAZADO                  -0.129386              NaN              NaN   \n",
       "Edad Venta                       -0.022945              NaN              NaN   \n",
       "Edad Siniestro                   -0.040961              NaN              NaN   \n",
       "\n",
       "                      MONTO RECLAMADO  MONTO RECHAZADO  Edad Venta  \\\n",
       "nombre                            NaN              NaN         NaN   \n",
       "apellido                          NaN              NaN         NaN   \n",
       "Genero                      -0.019500         0.061557    0.006930   \n",
       "Cuit_Socio                        NaN              NaN         NaN   \n",
       "importe_ultima_prima        -0.043055        -0.129386   -0.022945   \n",
       "Codigo_Vendedor                   NaN              NaN         NaN   \n",
       "Nombre_Vendedor                   NaN              NaN         NaN   \n",
       "MONTO RECLAMADO              1.000000         0.559524   -0.020174   \n",
       "MONTO RECHAZADO              0.559524         1.000000   -0.033664   \n",
       "Edad Venta                  -0.020174        -0.033664    1.000000   \n",
       "Edad Siniestro              -0.010971        -0.022726    0.998439   \n",
       "\n",
       "                      Edad Siniestro  \n",
       "nombre                           NaN  \n",
       "apellido                         NaN  \n",
       "Genero                      0.035381  \n",
       "Cuit_Socio                       NaN  \n",
       "importe_ultima_prima       -0.040961  \n",
       "Codigo_Vendedor                  NaN  \n",
       "Nombre_Vendedor                  NaN  \n",
       "MONTO RECLAMADO            -0.010971  \n",
       "MONTO RECHAZADO            -0.022726  \n",
       "Edad Venta                  0.998439  \n",
       "Edad Siniestro              1.000000  "
      ]
     },
     "execution_count": 23,
     "metadata": {},
     "output_type": "execute_result"
    }
   ],
   "source": [
    "cartera20192022prod.corr()"
   ]
  },
  {
   "cell_type": "code",
   "execution_count": 25,
   "metadata": {
    "id": "J4luL44qQHq_"
   },
   "outputs": [
    {
     "name": "stdout",
     "output_type": "stream",
     "text": [
      "<class 'pandas.core.frame.DataFrame'>\n",
      "Int64Index: 119065 entries, 0 to 119064\n",
      "Data columns (total 40 columns):\n",
      " #   Column                   Non-Null Count   Dtype         \n",
      "---  ------                   --------------   -----         \n",
      " 0   IdCRM                    119065 non-null  object        \n",
      " 1   nombre                   0 non-null       float64       \n",
      " 2   apellido                 0 non-null       float64       \n",
      " 3   Fecha_Nacimiento         118766 non-null  object        \n",
      " 4   Tipo_Documento           119065 non-null  object        \n",
      " 5   Numero_Documento         119065 non-null  object        \n",
      " 6   Genero                   119047 non-null  float64       \n",
      " 7   cGenero                  119065 non-null  object        \n",
      " 8   Provincia                48868 non-null   object        \n",
      " 9   Codigo_Postal            50941 non-null   object        \n",
      " 10  Producto                 119065 non-null  object        \n",
      " 11  Fecha_Venta              119065 non-null  datetime64[ns]\n",
      " 12  Inicio_Vigencia          119065 non-null  object        \n",
      " 13  Fin_Vigencia             116829 non-null  object        \n",
      " 14  Cartera                  119065 non-null  object        \n",
      " 15  Socio                    50064 non-null   object        \n",
      " 16  Cuit_Socio               0 non-null       float64       \n",
      " 17  Estado_Certificado       118041 non-null  object        \n",
      " 18  Poliza                   119065 non-null  object        \n",
      " 19  Canal_Venta              118509 non-null  object        \n",
      " 20  Certificado              119065 non-null  object        \n",
      " 21  importe_ultima_prima     80447 non-null   float64       \n",
      " 22  estado_ultima_prima      59788 non-null   object        \n",
      " 23  Fecha_ultima_prima       65173 non-null   object        \n",
      " 24  Codigo_Vendedor          0 non-null       float64       \n",
      " 25  Nombre_Vendedor          0 non-null       float64       \n",
      " 26  CDescripcionPlan         119065 non-null  object        \n",
      " 27  Fecha Siniestro          1548 non-null    object        \n",
      " 28  MONTO RECLAMADO          1548 non-null    float64       \n",
      " 29  MONTO RECHAZADO          309 non-null     float64       \n",
      " 30  Edad Venta               119064 non-null  float64       \n",
      " 31  Edad Siniestro           1548 non-null    float64       \n",
      " 32  Rango Etario Venta       118969 non-null  object        \n",
      " 33  Rango Etario Siniestros  1546 non-null    object        \n",
      " 34  Producto1                0 non-null       object        \n",
      " 35  Producto2                119065 non-null  object        \n",
      " 36  Producto3                119065 non-null  object        \n",
      " 37  PRODUCT                  119065 non-null  object        \n",
      " 38  CODIGO_PRODUCTO          119065 non-null  object        \n",
      " 39  SCASART_PRODUCT          119065 non-null  object        \n",
      "dtypes: datetime64[ns](1), float64(11), object(28)\n",
      "memory usage: 37.2+ MB\n"
     ]
    }
   ],
   "source": [
    "cartera20192022prod['cGenero']=cartera20192022prod['cGenero'].astype(str)\n",
    "cartera20192022prod.info()"
   ]
  },
  {
   "cell_type": "code",
   "execution_count": 26,
   "metadata": {
    "id": "xFywJFhlP9V0"
   },
   "outputs": [
    {
     "data": {
      "image/png": "[encoded data removed]",
      "text/plain": [
       "<Figure size 432x288 with 1 Axes>"
      ]
     },
     "metadata": {
      "needs_background": "light"
     },
     "output_type": "display_data"
    }
   ],
   "source": [
    "ax=sns.countplot(x='cGenero', data=cartera20192022prod,  palette ='Spectral', order=cartera20192022prod['cGenero'].value_counts().index)"
   ]
  },
  {
   "cell_type": "code",
   "execution_count": 27,
   "metadata": {
    "id": "oRlArXxnLgv_"
   },
   "outputs": [
    {
     "data": {
      "image/png": "[encoded data removed]",
      "text/plain": [
       "<Figure size 432x288 with 1 Axes>"
      ]
     },
     "metadata": {
      "needs_background": "light"
     },
     "output_type": "display_data"
    }
   ],
   "source": [
    "ax=sns.countplot(y='Provincia', data=cartera20192022prod, orient='h', palette ='Spectral',order=cartera20192022prod['Provincia'].value_counts().index)"
   ]
  },
  {
   "cell_type": "code",
   "execution_count": 28,
   "metadata": {
    "id": "lLUmP5cFQd5G"
   },
   "outputs": [
    {
     "data": {
      "image/png": "[encoded data removed]",
      "text/plain": [
       "<Figure size 432x288 with 1 Axes>"
      ]
     },
     "metadata": {
      "needs_background": "light"
     },
     "output_type": "display_data"
    }
   ],
   "source": [
    "ax=sns.countplot(y='Estado_Certificado', data=cartera20192022prod,  palette ='Spectral', order=cartera20192022prod['Estado_Certificado'].value_counts().index)"
   ]
  },
  {
   "cell_type": "code",
   "execution_count": 29,
   "metadata": {
    "id": "ahpbkUvxQd7j"
   },
   "outputs": [
    {
     "data": {
      "image/png": "[encoded data removed]",
      "text/plain": [
       "<Figure size 432x288 with 1 Axes>"
      ]
     },
     "metadata": {
      "needs_background": "light"
     },
     "output_type": "display_data"
    }
   ],
   "source": [
    "ax=sns.countplot(y='Canal_Venta', data=cartera20192022prod,  palette ='Spectral', order=cartera20192022prod['Canal_Venta'].value_counts().index)"
   ]
  },
  {
   "cell_type": "code",
   "execution_count": 30,
   "metadata": {
    "id": "mLmLMIQNQd9e"
   },
   "outputs": [],
   "source": [
    "def df_explore(df):\n",
    "    print('Shape: ', df.shape)\n",
    "    \n",
    "    t=['Columns','Type','Non-Null','Null','Unique','Example']\n",
    "    \n",
    "    for c in df.columns:\n",
    "        t.add_row([c,\n",
    "                  df[c].dtype,\n",
    "                  len(df[c])-np.sum(df[c].isna()),\n",
    "                  np.sum(df[c].isna()),\n",
    "                   np.count_nonzero(df[c],unique()),\n",
    "                   df[~df[c].isnull()][c].iloc[0],\n",
    "                   ])\n",
    "        print(t)\n",
    "        print()\n",
    "        return\n",
    "    \n",
    "    df_explore(df)"
   ]
  },
  {
   "cell_type": "code",
   "execution_count": 31,
   "metadata": {
    "id": "sTnDx_qfQd_S"
   },
   "outputs": [],
   "source": [
    "def column_exploration(df,column_name,sort_index=False):\n",
    "    #Analysis of column values and plot\n",
    "    print(f'COLUMN: {column_name}')\n",
    "\n",
    "    # Quantity and Percentage of orders\n",
    "    print('\\n\\na. Quantity and Percentage \\n')\n",
    "    abs_values =df[column_name].value_counts()\n",
    "    prc_values =(df[column_name].value_counts(normalize=True)*100).apply(lambda x:round(x,1))\n",
    "    df_values = pd.merge(abs_values, prc_values, left_index=True, right_index=True, suffixes=('_abs','_prc'))\n",
    "    #display(df_values)\n",
    "\n",
    "    # Plot of orders\n",
    "    #print('\\n\\nb. Plot of quantity\\n')\n",
    "    \n",
    "    if sort_index is True:\n",
    "        df_values = df_values.sort_index(axis = 0)\n",
    "    \n",
    "    # Plot values, title and axis names\n",
    "    ax = df_values[column_name+'_abs'].plot(kind='bar', figsize=(15,7))\n",
    "    ax.set_title(f\"Cantidad by {column_name}\")\n",
    "    ax.set_xlabel(column_name)\n",
    "    ax.set_ylabel('Cantidad')\n",
    "\n",
    "    #Labels over bars\n",
    "    rects = ax.patches\n",
    "    labels = [f'{p}%' for p in df_values[column_name+'_prc'].to_list()]\n",
    "    for rect, label in zip(rects, labels):\n",
    "        height = rect.get_height()\n",
    "        ax.text(rect.get_x() + rect.get_width() / 2, height + 5, label,\n",
    "                ha='center', va='bottom')\n",
    "    \n",
    "    return\n"
   ]
  },
  {
   "cell_type": "code",
   "execution_count": 32,
   "metadata": {
    "id": "_9L_kQOBQeBB"
   },
   "outputs": [
    {
     "name": "stdout",
     "output_type": "stream",
     "text": [
      "COLUMN: cGenero\n",
      "\n",
      "\n",
      "a. Quantity and Percentage \n",
      "\n"
     ]
    },
    {
     "data": {
      "image/png": "[encoded data removed]",
      "text/plain": [
       "<Figure size 1080x504 with 1 Axes>"
      ]
     },
     "metadata": {
      "needs_background": "light"
     },
     "output_type": "display_data"
    }
   ],
   "source": [
    "column_exploration(cartera20192022prod,'cGenero', True)"
   ]
  },
  {
   "cell_type": "code",
   "execution_count": 33,
   "metadata": {
    "id": "2pxu4iHLQeCx"
   },
   "outputs": [
    {
     "name": "stdout",
     "output_type": "stream",
     "text": [
      "COLUMN: Rango Etario Venta\n",
      "\n",
      "\n",
      "a. Quantity and Percentage \n",
      "\n"
     ]
    },
    {
     "data": {
      "image/png": "[encoded data removed]",
      "text/plain": [
       "<Figure size 1080x504 with 1 Axes>"
      ]
     },
     "metadata": {
      "needs_background": "light"
     },
     "output_type": "display_data"
    }
   ],
   "source": [
    "column_exploration(cartera20192022prod,'Rango Etario Venta', True)"
   ]
  },
  {
   "cell_type": "code",
   "execution_count": 34,
   "metadata": {
    "id": "XJ8XKdWYQeEx"
   },
   "outputs": [
    {
     "name": "stdout",
     "output_type": "stream",
     "text": [
      "COLUMN: Rango Etario Siniestros\n",
      "\n",
      "\n",
      "a. Quantity and Percentage \n",
      "\n"
     ]
    },
    {
     "data": {
      "image/png": "[encoded data removed]",
      "text/plain": [
       "<Figure size 1080x504 with 1 Axes>"
      ]
     },
     "metadata": {
      "needs_background": "light"
     },
     "output_type": "display_data"
    }
   ],
   "source": [
    "column_exploration(cartera20192022prod,'Rango Etario Siniestros', True)"
   ]
  },
  {
   "cell_type": "code",
   "execution_count": null,
   "metadata": {
    "id": "4-fQoda8Qsad"
   },
   "outputs": [],
   "source": []
  },
  {
   "cell_type": "markdown",
   "metadata": {
    "id": "5NogUQTtQvgi"
   },
   "source": [
    "# **MERGE**"
   ]
  },
  {
   "cell_type": "code",
   "execution_count": 35,
   "metadata": {
    "id": "YPtYKO2jQsco"
   },
   "outputs": [],
   "source": [
    "merge=cartera20192022prod.merge(siniestros20192022, left_on='Certificado', right_on='SINIESTROS_CERTIFICATE',how='right')"
   ]
  },
  {
   "cell_type": "code",
   "execution_count": null,
   "metadata": {
    "id": "mr1ysd8DQse9"
   },
   "outputs": [],
   "source": []
  },
  {
   "cell_type": "code",
   "execution_count": null,
   "metadata": {
    "id": "VYKG1wbDQsik"
   },
   "outputs": [],
   "source": []
  },
  {
   "cell_type": "code",
   "execution_count": null,
   "metadata": {
    "id": "9zT2cTVVQsk2"
   },
   "outputs": [],
   "source": []
  },
  {
   "cell_type": "code",
   "execution_count": null,
   "metadata": {
    "id": "Zvj8IdSMQsnG"
   },
   "outputs": [],
   "source": []
  }
 ],
 "metadata": {
  "colab": {
   "name": "Ventas y Usabilidad.ipynb",
   "provenance": []
  },
  "kernelspec": {
   "display_name": "Python 3",
   "language": "python",
   "name": "python3"
  },
  "language_info": {
   "codemirror_mode": {
    "name": "ipython",
    "version": 3
   },
   "file_extension": ".py",
   "mimetype": "text/x-python",
   "name": "python",
   "nbconvert_exporter": "python",
   "pygments_lexer": "ipython3",
   "version": "3.8.8"
  }
 },
 "nbformat": 4,
 "nbformat_minor": 1
}
